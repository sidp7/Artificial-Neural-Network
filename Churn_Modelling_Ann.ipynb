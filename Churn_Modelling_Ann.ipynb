{
  "nbformat": 4,
  "nbformat_minor": 0,
  "metadata": {
    "colab": {
      "name": "Churn Modelling Ann",
      "provenance": [],
      "collapsed_sections": []
    },
    "kernelspec": {
      "name": "python3",
      "display_name": "Python 3"
    }
  },
  "cells": [
    {
      "cell_type": "markdown",
      "metadata": {
        "id": "4GKOn2j8-lEk"
      },
      "source": [
        "DATA Pre-processing"
      ]
    },
    {
      "cell_type": "code",
      "metadata": {
        "id": "E3A2hTYl9wf0"
      },
      "source": [
        "import numpy as np\n",
        "import pandas as pd\n",
        "import tensorflow as tf\n"
      ],
      "execution_count": null,
      "outputs": []
    },
    {
      "cell_type": "code",
      "metadata": {
        "id": "LTwveg_SmUpc",
        "outputId": "cbaec2a3-4d5a-4388-865d-0dd8fac97258",
        "colab": {
          "base_uri": "https://localhost:8080/",
          "height": 35
        }
      },
      "source": [
        "tf.__version__"
      ],
      "execution_count": null,
      "outputs": [
        {
          "output_type": "execute_result",
          "data": {
            "application/vnd.google.colaboratory.intrinsic+json": {
              "type": "string"
            },
            "text/plain": [
              "'2.3.0'"
            ]
          },
          "metadata": {
            "tags": []
          },
          "execution_count": 9
        }
      ]
    },
    {
      "cell_type": "code",
      "metadata": {
        "id": "RLQ68wirmUs1"
      },
      "source": [
        "dataset = pd.read_csv('Churn_Modelling.csv')\n",
        "X = dataset.iloc[:,3:-1].values\n",
        "y = dataset.iloc[:,-1].values"
      ],
      "execution_count": null,
      "outputs": []
    },
    {
      "cell_type": "code",
      "metadata": {
        "id": "rUkDg0dwmU0E",
        "outputId": "9cc72ea9-983b-4c09-b509-5b79ed8531fd",
        "colab": {
          "base_uri": "https://localhost:8080/",
          "height": 136
        }
      },
      "source": [
        "X"
      ],
      "execution_count": null,
      "outputs": [
        {
          "output_type": "execute_result",
          "data": {
            "text/plain": [
              "array([[619, 'France', 'Female', ..., 1, 1, 101348.88],\n",
              "       [608, 'Spain', 'Female', ..., 0, 1, 112542.58],\n",
              "       [502, 'France', 'Female', ..., 1, 0, 113931.57],\n",
              "       ...,\n",
              "       [709, 'France', 'Female', ..., 0, 1, 42085.58],\n",
              "       [772, 'Germany', 'Male', ..., 1, 0, 92888.52],\n",
              "       [792, 'France', 'Female', ..., 1, 0, 38190.78]], dtype=object)"
            ]
          },
          "metadata": {
            "tags": []
          },
          "execution_count": 11
        }
      ]
    },
    {
      "cell_type": "code",
      "metadata": {
        "id": "kvnBGR8ImVAO"
      },
      "source": [
        "from sklearn.preprocessing import LabelEncoder\n",
        "le =LabelEncoder()\n",
        "X[:,2] = le.fit_transform(X[:,2])"
      ],
      "execution_count": null,
      "outputs": []
    },
    {
      "cell_type": "code",
      "metadata": {
        "id": "fQsQthwHmVDj",
        "outputId": "eb1de74a-1f30-4578-e14e-c42a426097bd",
        "colab": {
          "base_uri": "https://localhost:8080/",
          "height": 136
        }
      },
      "source": [
        "print(X)"
      ],
      "execution_count": null,
      "outputs": [
        {
          "output_type": "stream",
          "text": [
            "[[619 'France' 0 ... 1 1 101348.88]\n",
            " [608 'Spain' 0 ... 0 1 112542.58]\n",
            " [502 'France' 0 ... 1 0 113931.57]\n",
            " ...\n",
            " [709 'France' 0 ... 0 1 42085.58]\n",
            " [772 'Germany' 1 ... 1 0 92888.52]\n",
            " [792 'France' 0 ... 1 0 38190.78]]\n"
          ],
          "name": "stdout"
        }
      ]
    },
    {
      "cell_type": "code",
      "metadata": {
        "id": "bN4v0pTUmVMc"
      },
      "source": [
        "from sklearn.compose import ColumnTransformer\n",
        "from sklearn.preprocessing import OneHotEncoder\n",
        "ct = ColumnTransformer(transformers=[('encoder',OneHotEncoder(),[1])], remainder = 'passthrough')\n",
        "X = np.array(ct.fit_transform(X))"
      ],
      "execution_count": null,
      "outputs": []
    },
    {
      "cell_type": "code",
      "metadata": {
        "id": "wTLeWgwfmVST",
        "outputId": "e45bad07-7a25-4167-d94b-fae820ccc53e",
        "colab": {
          "base_uri": "https://localhost:8080/",
          "height": 136
        }
      },
      "source": [
        "X"
      ],
      "execution_count": null,
      "outputs": [
        {
          "output_type": "execute_result",
          "data": {
            "text/plain": [
              "array([[1.0, 0.0, 0.0, ..., 1, 1, 101348.88],\n",
              "       [0.0, 0.0, 1.0, ..., 0, 1, 112542.58],\n",
              "       [1.0, 0.0, 0.0, ..., 1, 0, 113931.57],\n",
              "       ...,\n",
              "       [1.0, 0.0, 0.0, ..., 0, 1, 42085.58],\n",
              "       [0.0, 1.0, 0.0, ..., 1, 0, 92888.52],\n",
              "       [1.0, 0.0, 0.0, ..., 1, 0, 38190.78]], dtype=object)"
            ]
          },
          "metadata": {
            "tags": []
          },
          "execution_count": 17
        }
      ]
    },
    {
      "cell_type": "code",
      "metadata": {
        "id": "7zjvkHx2mVPw"
      },
      "source": [
        "from sklearn.model_selection import train_test_split\n",
        "X_train, X_test, y_train, y_test = train_test_split(X,y,test_size = 0.3, random_state = 42)"
      ],
      "execution_count": null,
      "outputs": []
    },
    {
      "cell_type": "code",
      "metadata": {
        "id": "qTWmGH8ZmVJ4"
      },
      "source": [
        "from sklearn.preprocessing import StandardScaler\n",
        "sc = StandardScaler()\n",
        "X_train = sc.fit_transform(X_train)\n",
        "X_test = sc.fit_transform(X_test)\n"
      ],
      "execution_count": null,
      "outputs": []
    },
    {
      "cell_type": "code",
      "metadata": {
        "id": "ZHiFnTyhmVHH"
      },
      "source": [
        "ann = tf.keras.models.Sequential()\n"
      ],
      "execution_count": null,
      "outputs": []
    },
    {
      "cell_type": "code",
      "metadata": {
        "id": "smZVC0f3mU9D"
      },
      "source": [
        "ann.add(tf.keras.layers.Dense(units=7,activation = 'relu'))"
      ],
      "execution_count": null,
      "outputs": []
    },
    {
      "cell_type": "code",
      "metadata": {
        "id": "_vyltjtAmU6a"
      },
      "source": [
        "ann.add(tf.keras.layers.Dense(units=7,activation='relu'))"
      ],
      "execution_count": null,
      "outputs": []
    },
    {
      "cell_type": "code",
      "metadata": {
        "id": "4zaun-ZjmUwT"
      },
      "source": [
        "ann.add(tf.keras.layers.Dense(units=1,activation='sigmoid'))"
      ],
      "execution_count": null,
      "outputs": []
    },
    {
      "cell_type": "code",
      "metadata": {
        "id": "IqElSVn3R1EK"
      },
      "source": [
        "ann.compile(optimizer='adam',loss='binary_crossentropy',metrics=['accuracy'])"
      ],
      "execution_count": null,
      "outputs": []
    },
    {
      "cell_type": "code",
      "metadata": {
        "id": "WCpYsw04R1M9",
        "outputId": "a7223d0c-8a1d-45fe-9f03-8e1c27e72eee",
        "colab": {
          "base_uri": "https://localhost:8080/",
          "height": 1000
        }
      },
      "source": [
        "ann.fit(X_train,y_train,batch_size=32,epochs=70)"
      ],
      "execution_count": null,
      "outputs": [
        {
          "output_type": "stream",
          "text": [
            "Epoch 1/70\n",
            "219/219 [==============================] - 0s 1ms/step - loss: 0.3310 - accuracy: 0.8656\n",
            "Epoch 2/70\n",
            "219/219 [==============================] - 0s 1ms/step - loss: 0.3305 - accuracy: 0.8640\n",
            "Epoch 3/70\n",
            "219/219 [==============================] - 0s 1ms/step - loss: 0.3307 - accuracy: 0.8651\n",
            "Epoch 4/70\n",
            "219/219 [==============================] - 0s 1ms/step - loss: 0.3305 - accuracy: 0.8646\n",
            "Epoch 5/70\n",
            "219/219 [==============================] - 0s 1ms/step - loss: 0.3305 - accuracy: 0.8653\n",
            "Epoch 6/70\n",
            "219/219 [==============================] - 0s 1ms/step - loss: 0.3304 - accuracy: 0.8659\n",
            "Epoch 7/70\n",
            "219/219 [==============================] - 0s 1ms/step - loss: 0.3304 - accuracy: 0.8644\n",
            "Epoch 8/70\n",
            "219/219 [==============================] - 0s 1ms/step - loss: 0.3300 - accuracy: 0.8666\n",
            "Epoch 9/70\n",
            "219/219 [==============================] - 0s 1ms/step - loss: 0.3307 - accuracy: 0.8647\n",
            "Epoch 10/70\n",
            "219/219 [==============================] - 0s 1ms/step - loss: 0.3300 - accuracy: 0.8646\n",
            "Epoch 11/70\n",
            "219/219 [==============================] - 0s 1ms/step - loss: 0.3306 - accuracy: 0.8643\n",
            "Epoch 12/70\n",
            "219/219 [==============================] - 0s 1ms/step - loss: 0.3298 - accuracy: 0.8651\n",
            "Epoch 13/70\n",
            "219/219 [==============================] - 0s 1ms/step - loss: 0.3304 - accuracy: 0.8647\n",
            "Epoch 14/70\n",
            "219/219 [==============================] - 0s 1ms/step - loss: 0.3306 - accuracy: 0.8663\n",
            "Epoch 15/70\n",
            "219/219 [==============================] - 0s 1ms/step - loss: 0.3301 - accuracy: 0.8636\n",
            "Epoch 16/70\n",
            "219/219 [==============================] - 0s 1ms/step - loss: 0.3301 - accuracy: 0.8656\n",
            "Epoch 17/70\n",
            "219/219 [==============================] - 0s 1ms/step - loss: 0.3302 - accuracy: 0.8663\n",
            "Epoch 18/70\n",
            "219/219 [==============================] - 0s 1ms/step - loss: 0.3309 - accuracy: 0.8667\n",
            "Epoch 19/70\n",
            "219/219 [==============================] - 0s 1ms/step - loss: 0.3303 - accuracy: 0.8653\n",
            "Epoch 20/70\n",
            "219/219 [==============================] - 0s 1ms/step - loss: 0.3304 - accuracy: 0.8656\n",
            "Epoch 21/70\n",
            "219/219 [==============================] - 0s 1ms/step - loss: 0.3301 - accuracy: 0.8654\n",
            "Epoch 22/70\n",
            "219/219 [==============================] - 0s 1ms/step - loss: 0.3300 - accuracy: 0.8660\n",
            "Epoch 23/70\n",
            "219/219 [==============================] - 0s 1ms/step - loss: 0.3305 - accuracy: 0.8653\n",
            "Epoch 24/70\n",
            "219/219 [==============================] - 0s 1ms/step - loss: 0.3301 - accuracy: 0.8676\n",
            "Epoch 25/70\n",
            "219/219 [==============================] - 0s 1ms/step - loss: 0.3299 - accuracy: 0.8647\n",
            "Epoch 26/70\n",
            "219/219 [==============================] - 0s 1ms/step - loss: 0.3298 - accuracy: 0.8654\n",
            "Epoch 27/70\n",
            "219/219 [==============================] - 0s 1ms/step - loss: 0.3305 - accuracy: 0.8649\n",
            "Epoch 28/70\n",
            "219/219 [==============================] - 0s 1ms/step - loss: 0.3303 - accuracy: 0.8663\n",
            "Epoch 29/70\n",
            "219/219 [==============================] - 0s 1ms/step - loss: 0.3300 - accuracy: 0.8647\n",
            "Epoch 30/70\n",
            "219/219 [==============================] - 0s 1ms/step - loss: 0.3298 - accuracy: 0.8644\n",
            "Epoch 31/70\n",
            "219/219 [==============================] - 0s 1ms/step - loss: 0.3304 - accuracy: 0.8653\n",
            "Epoch 32/70\n",
            "219/219 [==============================] - 0s 1ms/step - loss: 0.3303 - accuracy: 0.8646\n",
            "Epoch 33/70\n",
            "219/219 [==============================] - 0s 1ms/step - loss: 0.3296 - accuracy: 0.8651\n",
            "Epoch 34/70\n",
            "219/219 [==============================] - 0s 1ms/step - loss: 0.3303 - accuracy: 0.8643\n",
            "Epoch 35/70\n",
            "219/219 [==============================] - 0s 1ms/step - loss: 0.3299 - accuracy: 0.8661\n",
            "Epoch 36/70\n",
            "219/219 [==============================] - 0s 1ms/step - loss: 0.3298 - accuracy: 0.8643\n",
            "Epoch 37/70\n",
            "219/219 [==============================] - 0s 1ms/step - loss: 0.3296 - accuracy: 0.8649\n",
            "Epoch 38/70\n",
            "219/219 [==============================] - 0s 1ms/step - loss: 0.3296 - accuracy: 0.8641\n",
            "Epoch 39/70\n",
            "219/219 [==============================] - 0s 1ms/step - loss: 0.3299 - accuracy: 0.8659\n",
            "Epoch 40/70\n",
            "219/219 [==============================] - 0s 1ms/step - loss: 0.3295 - accuracy: 0.8639\n",
            "Epoch 41/70\n",
            "219/219 [==============================] - 0s 1ms/step - loss: 0.3297 - accuracy: 0.8663\n",
            "Epoch 42/70\n",
            "219/219 [==============================] - 0s 1ms/step - loss: 0.3297 - accuracy: 0.8653\n",
            "Epoch 43/70\n",
            "219/219 [==============================] - 0s 1ms/step - loss: 0.3303 - accuracy: 0.8646\n",
            "Epoch 44/70\n",
            "219/219 [==============================] - 0s 1ms/step - loss: 0.3295 - accuracy: 0.8661\n",
            "Epoch 45/70\n",
            "219/219 [==============================] - 0s 1ms/step - loss: 0.3295 - accuracy: 0.8631\n",
            "Epoch 46/70\n",
            "219/219 [==============================] - 0s 1ms/step - loss: 0.3297 - accuracy: 0.8663\n",
            "Epoch 47/70\n",
            "219/219 [==============================] - 0s 1ms/step - loss: 0.3299 - accuracy: 0.8654\n",
            "Epoch 48/70\n",
            "219/219 [==============================] - 0s 1ms/step - loss: 0.3296 - accuracy: 0.8654\n",
            "Epoch 49/70\n",
            "219/219 [==============================] - 0s 1ms/step - loss: 0.3299 - accuracy: 0.8639\n",
            "Epoch 50/70\n",
            "219/219 [==============================] - 0s 1ms/step - loss: 0.3298 - accuracy: 0.8646\n",
            "Epoch 51/70\n",
            "219/219 [==============================] - 0s 1ms/step - loss: 0.3294 - accuracy: 0.8656\n",
            "Epoch 52/70\n",
            "219/219 [==============================] - 0s 1ms/step - loss: 0.3297 - accuracy: 0.8659\n",
            "Epoch 53/70\n",
            "219/219 [==============================] - 0s 1ms/step - loss: 0.3295 - accuracy: 0.8639\n",
            "Epoch 54/70\n",
            "219/219 [==============================] - 0s 1ms/step - loss: 0.3295 - accuracy: 0.8664\n",
            "Epoch 55/70\n",
            "219/219 [==============================] - 0s 1ms/step - loss: 0.3294 - accuracy: 0.8639\n",
            "Epoch 56/70\n",
            "219/219 [==============================] - 0s 1ms/step - loss: 0.3297 - accuracy: 0.8654\n",
            "Epoch 57/70\n",
            "219/219 [==============================] - 0s 1ms/step - loss: 0.3301 - accuracy: 0.8653\n",
            "Epoch 58/70\n",
            "219/219 [==============================] - 0s 1ms/step - loss: 0.3293 - accuracy: 0.8657\n",
            "Epoch 59/70\n",
            "219/219 [==============================] - 0s 1ms/step - loss: 0.3299 - accuracy: 0.8666\n",
            "Epoch 60/70\n",
            "219/219 [==============================] - 0s 1ms/step - loss: 0.3296 - accuracy: 0.8636\n",
            "Epoch 61/70\n",
            "219/219 [==============================] - 0s 1ms/step - loss: 0.3295 - accuracy: 0.8650\n",
            "Epoch 62/70\n",
            "219/219 [==============================] - 0s 1ms/step - loss: 0.3295 - accuracy: 0.8649\n",
            "Epoch 63/70\n",
            "219/219 [==============================] - 0s 1ms/step - loss: 0.3295 - accuracy: 0.8650\n",
            "Epoch 64/70\n",
            "219/219 [==============================] - 0s 1ms/step - loss: 0.3293 - accuracy: 0.8657\n",
            "Epoch 65/70\n",
            "219/219 [==============================] - 0s 1ms/step - loss: 0.3301 - accuracy: 0.8646\n",
            "Epoch 66/70\n",
            "219/219 [==============================] - 0s 1ms/step - loss: 0.3293 - accuracy: 0.8647\n",
            "Epoch 67/70\n",
            "219/219 [==============================] - 0s 1ms/step - loss: 0.3292 - accuracy: 0.8667\n",
            "Epoch 68/70\n",
            "219/219 [==============================] - 0s 1ms/step - loss: 0.3293 - accuracy: 0.8646\n",
            "Epoch 69/70\n",
            "219/219 [==============================] - 0s 1ms/step - loss: 0.3292 - accuracy: 0.8640\n",
            "Epoch 70/70\n",
            "219/219 [==============================] - 0s 1ms/step - loss: 0.3291 - accuracy: 0.8657\n"
          ],
          "name": "stdout"
        },
        {
          "output_type": "execute_result",
          "data": {
            "text/plain": [
              "<tensorflow.python.keras.callbacks.History at 0x7f50e015ce10>"
            ]
          },
          "metadata": {
            "tags": []
          },
          "execution_count": 27
        }
      ]
    },
    {
      "cell_type": "code",
      "metadata": {
        "id": "CiWOIPyAR1S2"
      },
      "source": [
        ""
      ],
      "execution_count": null,
      "outputs": []
    },
    {
      "cell_type": "markdown",
      "metadata": {
        "id": "dMeq7pGeWMry"
      },
      "source": [
        "Predicting the Test results"
      ]
    },
    {
      "cell_type": "code",
      "metadata": {
        "id": "0FfmES5SR1Qi"
      },
      "source": [
        "y_pred = ann.predict(X_test)\n",
        "y_pred = (y_pred >0.6)\n"
      ],
      "execution_count": null,
      "outputs": []
    },
    {
      "cell_type": "code",
      "metadata": {
        "id": "SWhyrSc3R1Kc",
        "outputId": "0e01034a-392e-4baf-fa81-6a4431d74f5d",
        "colab": {
          "base_uri": "https://localhost:8080/",
          "height": 136
        }
      },
      "source": [
        "\n",
        "print(np.concatenate((y_pred.reshape(len(y_pred),1), y_test.reshape(len(y_test),1)),1))"
      ],
      "execution_count": null,
      "outputs": [
        {
          "output_type": "stream",
          "text": [
            "[[0 0]\n",
            " [0 0]\n",
            " [0 0]\n",
            " ...\n",
            " [0 0]\n",
            " [0 0]\n",
            " [0 0]]\n"
          ],
          "name": "stdout"
        }
      ]
    },
    {
      "cell_type": "markdown",
      "metadata": {
        "id": "G9yWY5DuYEiZ"
      },
      "source": [
        "Confusion Matrix"
      ]
    },
    {
      "cell_type": "code",
      "metadata": {
        "id": "uj6_n2LhR1Bg",
        "outputId": "d8e54dbe-fcdc-49cf-f5e5-86507a137155",
        "colab": {
          "base_uri": "https://localhost:8080/",
          "height": 68
        }
      },
      "source": [
        "from sklearn.metrics import confusion_matrix,accuracy_score\n",
        "cm = confusion_matrix(y_test,y_pred)\n",
        "print(cm)\n",
        "accuracy_score(y_test,y_pred)"
      ],
      "execution_count": null,
      "outputs": [
        {
          "output_type": "stream",
          "text": [
            "[[2365   51]\n",
            " [ 355  229]]\n"
          ],
          "name": "stdout"
        },
        {
          "output_type": "execute_result",
          "data": {
            "text/plain": [
              "0.8646666666666667"
            ]
          },
          "metadata": {
            "tags": []
          },
          "execution_count": 42
        }
      ]
    }
  ]
}